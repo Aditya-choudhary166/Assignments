{
 "cells": [
  {
   "cell_type": "code",
   "execution_count": 63,
   "id": "85426ca0",
   "metadata": {},
   "outputs": [],
   "source": [
    "import pandas as pd\n",
    "import numpy as np\n",
    "import matplotlib.pyplot as plt\n",
    "import seaborn as sns\n"
   ]
  },
  {
   "cell_type": "code",
   "execution_count": 64,
   "id": "f85c8e9d",
   "metadata": {},
   "outputs": [
    {
     "data": {
      "text/html": [
       "<div>\n",
       "<style scoped>\n",
       "    .dataframe tbody tr th:only-of-type {\n",
       "        vertical-align: middle;\n",
       "    }\n",
       "\n",
       "    .dataframe tbody tr th {\n",
       "        vertical-align: top;\n",
       "    }\n",
       "\n",
       "    .dataframe thead th {\n",
       "        text-align: right;\n",
       "    }\n",
       "</style>\n",
       "<table border=\"1\" class=\"dataframe\">\n",
       "  <thead>\n",
       "    <tr style=\"text-align: right;\">\n",
       "      <th></th>\n",
       "      <th>brand</th>\n",
       "      <th>processor_brand</th>\n",
       "      <th>processor_name</th>\n",
       "      <th>processor_gnrtn</th>\n",
       "      <th>ram_gb</th>\n",
       "      <th>ram_type</th>\n",
       "      <th>ssd</th>\n",
       "      <th>hdd</th>\n",
       "      <th>os</th>\n",
       "      <th>os_bit</th>\n",
       "      <th>graphic_card_gb</th>\n",
       "      <th>weight</th>\n",
       "      <th>warranty</th>\n",
       "      <th>Touchscreen</th>\n",
       "      <th>msoffice</th>\n",
       "      <th>Price</th>\n",
       "      <th>rating</th>\n",
       "      <th>Number of Ratings</th>\n",
       "      <th>Number of Reviews</th>\n",
       "    </tr>\n",
       "  </thead>\n",
       "  <tbody>\n",
       "    <tr>\n",
       "      <th>0</th>\n",
       "      <td>ASUS</td>\n",
       "      <td>Intel</td>\n",
       "      <td>Core i3</td>\n",
       "      <td>10th</td>\n",
       "      <td>4 GB</td>\n",
       "      <td>DDR4</td>\n",
       "      <td>0 GB</td>\n",
       "      <td>1024 GB</td>\n",
       "      <td>Windows</td>\n",
       "      <td>64-bit</td>\n",
       "      <td>0 GB</td>\n",
       "      <td>Casual</td>\n",
       "      <td>No warranty</td>\n",
       "      <td>No</td>\n",
       "      <td>No</td>\n",
       "      <td>34649</td>\n",
       "      <td>2 stars</td>\n",
       "      <td>3</td>\n",
       "      <td>0</td>\n",
       "    </tr>\n",
       "    <tr>\n",
       "      <th>1</th>\n",
       "      <td>Lenovo</td>\n",
       "      <td>Intel</td>\n",
       "      <td>Core i3</td>\n",
       "      <td>10th</td>\n",
       "      <td>4 GB</td>\n",
       "      <td>DDR4</td>\n",
       "      <td>0 GB</td>\n",
       "      <td>1024 GB</td>\n",
       "      <td>Windows</td>\n",
       "      <td>64-bit</td>\n",
       "      <td>0 GB</td>\n",
       "      <td>Casual</td>\n",
       "      <td>No warranty</td>\n",
       "      <td>No</td>\n",
       "      <td>No</td>\n",
       "      <td>38999</td>\n",
       "      <td>3 stars</td>\n",
       "      <td>65</td>\n",
       "      <td>5</td>\n",
       "    </tr>\n",
       "    <tr>\n",
       "      <th>2</th>\n",
       "      <td>Lenovo</td>\n",
       "      <td>Intel</td>\n",
       "      <td>Core i3</td>\n",
       "      <td>10th</td>\n",
       "      <td>4 GB</td>\n",
       "      <td>DDR4</td>\n",
       "      <td>0 GB</td>\n",
       "      <td>1024 GB</td>\n",
       "      <td>Windows</td>\n",
       "      <td>64-bit</td>\n",
       "      <td>0 GB</td>\n",
       "      <td>Casual</td>\n",
       "      <td>No warranty</td>\n",
       "      <td>No</td>\n",
       "      <td>No</td>\n",
       "      <td>39999</td>\n",
       "      <td>3 stars</td>\n",
       "      <td>8</td>\n",
       "      <td>1</td>\n",
       "    </tr>\n",
       "    <tr>\n",
       "      <th>3</th>\n",
       "      <td>ASUS</td>\n",
       "      <td>Intel</td>\n",
       "      <td>Core i5</td>\n",
       "      <td>10th</td>\n",
       "      <td>8 GB</td>\n",
       "      <td>DDR4</td>\n",
       "      <td>512 GB</td>\n",
       "      <td>0 GB</td>\n",
       "      <td>Windows</td>\n",
       "      <td>32-bit</td>\n",
       "      <td>2 GB</td>\n",
       "      <td>Casual</td>\n",
       "      <td>No warranty</td>\n",
       "      <td>No</td>\n",
       "      <td>No</td>\n",
       "      <td>69990</td>\n",
       "      <td>3 stars</td>\n",
       "      <td>0</td>\n",
       "      <td>0</td>\n",
       "    </tr>\n",
       "    <tr>\n",
       "      <th>4</th>\n",
       "      <td>ASUS</td>\n",
       "      <td>Intel</td>\n",
       "      <td>Celeron Dual</td>\n",
       "      <td>Not Available</td>\n",
       "      <td>4 GB</td>\n",
       "      <td>DDR4</td>\n",
       "      <td>0 GB</td>\n",
       "      <td>512 GB</td>\n",
       "      <td>Windows</td>\n",
       "      <td>64-bit</td>\n",
       "      <td>0 GB</td>\n",
       "      <td>Casual</td>\n",
       "      <td>No warranty</td>\n",
       "      <td>No</td>\n",
       "      <td>No</td>\n",
       "      <td>26990</td>\n",
       "      <td>3 stars</td>\n",
       "      <td>0</td>\n",
       "      <td>0</td>\n",
       "    </tr>\n",
       "  </tbody>\n",
       "</table>\n",
       "</div>"
      ],
      "text/plain": [
       "    brand processor_brand processor_name processor_gnrtn ram_gb ram_type  \\\n",
       "0    ASUS           Intel        Core i3            10th   4 GB     DDR4   \n",
       "1  Lenovo           Intel        Core i3            10th   4 GB     DDR4   \n",
       "2  Lenovo           Intel        Core i3            10th   4 GB     DDR4   \n",
       "3    ASUS           Intel        Core i5            10th   8 GB     DDR4   \n",
       "4    ASUS           Intel   Celeron Dual   Not Available   4 GB     DDR4   \n",
       "\n",
       "      ssd      hdd       os  os_bit graphic_card_gb  weight     warranty  \\\n",
       "0    0 GB  1024 GB  Windows  64-bit            0 GB  Casual  No warranty   \n",
       "1    0 GB  1024 GB  Windows  64-bit            0 GB  Casual  No warranty   \n",
       "2    0 GB  1024 GB  Windows  64-bit            0 GB  Casual  No warranty   \n",
       "3  512 GB     0 GB  Windows  32-bit            2 GB  Casual  No warranty   \n",
       "4    0 GB   512 GB  Windows  64-bit            0 GB  Casual  No warranty   \n",
       "\n",
       "  Touchscreen msoffice  Price   rating  Number of Ratings  Number of Reviews  \n",
       "0          No       No  34649  2 stars                  3                  0  \n",
       "1          No       No  38999  3 stars                 65                  5  \n",
       "2          No       No  39999  3 stars                  8                  1  \n",
       "3          No       No  69990  3 stars                  0                  0  \n",
       "4          No       No  26990  3 stars                  0                  0  "
      ]
     },
     "execution_count": 64,
     "metadata": {},
     "output_type": "execute_result"
    }
   ],
   "source": [
    "df=pd.read_csv(\"laptopPrice (2).csv\")\n",
    "df.head()"
   ]
  },
  {
   "cell_type": "code",
   "execution_count": 65,
   "id": "c34ed791",
   "metadata": {},
   "outputs": [
    {
     "name": "stdout",
     "output_type": "stream",
     "text": [
      "<class 'pandas.core.frame.DataFrame'>\n",
      "RangeIndex: 823 entries, 0 to 822\n",
      "Data columns (total 19 columns):\n",
      " #   Column             Non-Null Count  Dtype \n",
      "---  ------             --------------  ----- \n",
      " 0   brand              823 non-null    object\n",
      " 1   processor_brand    823 non-null    object\n",
      " 2   processor_name     823 non-null    object\n",
      " 3   processor_gnrtn    823 non-null    object\n",
      " 4   ram_gb             823 non-null    object\n",
      " 5   ram_type           823 non-null    object\n",
      " 6   ssd                823 non-null    object\n",
      " 7   hdd                823 non-null    object\n",
      " 8   os                 823 non-null    object\n",
      " 9   os_bit             823 non-null    object\n",
      " 10  graphic_card_gb    823 non-null    object\n",
      " 11  weight             823 non-null    object\n",
      " 12  warranty           823 non-null    object\n",
      " 13  Touchscreen        823 non-null    object\n",
      " 14  msoffice           823 non-null    object\n",
      " 15  Price              823 non-null    int64 \n",
      " 16  rating             823 non-null    object\n",
      " 17  Number of Ratings  823 non-null    int64 \n",
      " 18  Number of Reviews  823 non-null    int64 \n",
      "dtypes: int64(3), object(16)\n",
      "memory usage: 122.3+ KB\n"
     ]
    }
   ],
   "source": [
    "df.info()"
   ]
  },
  {
   "cell_type": "code",
   "execution_count": 66,
   "id": "f980ba97",
   "metadata": {},
   "outputs": [
    {
     "data": {
      "text/html": [
       "<div>\n",
       "<style scoped>\n",
       "    .dataframe tbody tr th:only-of-type {\n",
       "        vertical-align: middle;\n",
       "    }\n",
       "\n",
       "    .dataframe tbody tr th {\n",
       "        vertical-align: top;\n",
       "    }\n",
       "\n",
       "    .dataframe thead th {\n",
       "        text-align: right;\n",
       "    }\n",
       "</style>\n",
       "<table border=\"1\" class=\"dataframe\">\n",
       "  <thead>\n",
       "    <tr style=\"text-align: right;\">\n",
       "      <th></th>\n",
       "      <th>brand</th>\n",
       "      <th>processor_brand</th>\n",
       "      <th>processor_name</th>\n",
       "      <th>processor_gnrtn</th>\n",
       "      <th>ram_gb</th>\n",
       "      <th>ram_type</th>\n",
       "      <th>ssd</th>\n",
       "      <th>hdd</th>\n",
       "      <th>os</th>\n",
       "      <th>os_bit</th>\n",
       "      <th>graphic_card_gb</th>\n",
       "      <th>weight</th>\n",
       "      <th>warranty</th>\n",
       "      <th>Touchscreen</th>\n",
       "      <th>msoffice</th>\n",
       "      <th>rating</th>\n",
       "    </tr>\n",
       "  </thead>\n",
       "  <tbody>\n",
       "    <tr>\n",
       "      <th>0</th>\n",
       "      <td>ASUS</td>\n",
       "      <td>Intel</td>\n",
       "      <td>Core i3</td>\n",
       "      <td>10th</td>\n",
       "      <td>4 GB</td>\n",
       "      <td>DDR4</td>\n",
       "      <td>0 GB</td>\n",
       "      <td>1024 GB</td>\n",
       "      <td>Windows</td>\n",
       "      <td>64-bit</td>\n",
       "      <td>0 GB</td>\n",
       "      <td>Casual</td>\n",
       "      <td>No warranty</td>\n",
       "      <td>No</td>\n",
       "      <td>No</td>\n",
       "      <td>2 stars</td>\n",
       "    </tr>\n",
       "    <tr>\n",
       "      <th>1</th>\n",
       "      <td>Lenovo</td>\n",
       "      <td>Intel</td>\n",
       "      <td>Core i3</td>\n",
       "      <td>10th</td>\n",
       "      <td>4 GB</td>\n",
       "      <td>DDR4</td>\n",
       "      <td>0 GB</td>\n",
       "      <td>1024 GB</td>\n",
       "      <td>Windows</td>\n",
       "      <td>64-bit</td>\n",
       "      <td>0 GB</td>\n",
       "      <td>Casual</td>\n",
       "      <td>No warranty</td>\n",
       "      <td>No</td>\n",
       "      <td>No</td>\n",
       "      <td>3 stars</td>\n",
       "    </tr>\n",
       "    <tr>\n",
       "      <th>2</th>\n",
       "      <td>Lenovo</td>\n",
       "      <td>Intel</td>\n",
       "      <td>Core i3</td>\n",
       "      <td>10th</td>\n",
       "      <td>4 GB</td>\n",
       "      <td>DDR4</td>\n",
       "      <td>0 GB</td>\n",
       "      <td>1024 GB</td>\n",
       "      <td>Windows</td>\n",
       "      <td>64-bit</td>\n",
       "      <td>0 GB</td>\n",
       "      <td>Casual</td>\n",
       "      <td>No warranty</td>\n",
       "      <td>No</td>\n",
       "      <td>No</td>\n",
       "      <td>3 stars</td>\n",
       "    </tr>\n",
       "    <tr>\n",
       "      <th>3</th>\n",
       "      <td>ASUS</td>\n",
       "      <td>Intel</td>\n",
       "      <td>Core i5</td>\n",
       "      <td>10th</td>\n",
       "      <td>8 GB</td>\n",
       "      <td>DDR4</td>\n",
       "      <td>512 GB</td>\n",
       "      <td>0 GB</td>\n",
       "      <td>Windows</td>\n",
       "      <td>32-bit</td>\n",
       "      <td>2 GB</td>\n",
       "      <td>Casual</td>\n",
       "      <td>No warranty</td>\n",
       "      <td>No</td>\n",
       "      <td>No</td>\n",
       "      <td>3 stars</td>\n",
       "    </tr>\n",
       "    <tr>\n",
       "      <th>4</th>\n",
       "      <td>ASUS</td>\n",
       "      <td>Intel</td>\n",
       "      <td>Celeron Dual</td>\n",
       "      <td>Not Available</td>\n",
       "      <td>4 GB</td>\n",
       "      <td>DDR4</td>\n",
       "      <td>0 GB</td>\n",
       "      <td>512 GB</td>\n",
       "      <td>Windows</td>\n",
       "      <td>64-bit</td>\n",
       "      <td>0 GB</td>\n",
       "      <td>Casual</td>\n",
       "      <td>No warranty</td>\n",
       "      <td>No</td>\n",
       "      <td>No</td>\n",
       "      <td>3 stars</td>\n",
       "    </tr>\n",
       "  </tbody>\n",
       "</table>\n",
       "</div>"
      ],
      "text/plain": [
       "    brand processor_brand processor_name processor_gnrtn ram_gb ram_type  \\\n",
       "0    ASUS           Intel        Core i3            10th   4 GB     DDR4   \n",
       "1  Lenovo           Intel        Core i3            10th   4 GB     DDR4   \n",
       "2  Lenovo           Intel        Core i3            10th   4 GB     DDR4   \n",
       "3    ASUS           Intel        Core i5            10th   8 GB     DDR4   \n",
       "4    ASUS           Intel   Celeron Dual   Not Available   4 GB     DDR4   \n",
       "\n",
       "      ssd      hdd       os  os_bit graphic_card_gb  weight     warranty  \\\n",
       "0    0 GB  1024 GB  Windows  64-bit            0 GB  Casual  No warranty   \n",
       "1    0 GB  1024 GB  Windows  64-bit            0 GB  Casual  No warranty   \n",
       "2    0 GB  1024 GB  Windows  64-bit            0 GB  Casual  No warranty   \n",
       "3  512 GB     0 GB  Windows  32-bit            2 GB  Casual  No warranty   \n",
       "4    0 GB   512 GB  Windows  64-bit            0 GB  Casual  No warranty   \n",
       "\n",
       "  Touchscreen msoffice   rating  \n",
       "0          No       No  2 stars  \n",
       "1          No       No  3 stars  \n",
       "2          No       No  3 stars  \n",
       "3          No       No  3 stars  \n",
       "4          No       No  3 stars  "
      ]
     },
     "execution_count": 66,
     "metadata": {},
     "output_type": "execute_result"
    }
   ],
   "source": [
    "cat_col=df.select_dtypes(include=\"O\")\n",
    "cat_col.head()"
   ]
  },
  {
   "cell_type": "code",
   "execution_count": 67,
   "id": "0edcec3b",
   "metadata": {},
   "outputs": [
    {
     "data": {
      "text/html": [
       "<div>\n",
       "<style scoped>\n",
       "    .dataframe tbody tr th:only-of-type {\n",
       "        vertical-align: middle;\n",
       "    }\n",
       "\n",
       "    .dataframe tbody tr th {\n",
       "        vertical-align: top;\n",
       "    }\n",
       "\n",
       "    .dataframe thead th {\n",
       "        text-align: right;\n",
       "    }\n",
       "</style>\n",
       "<table border=\"1\" class=\"dataframe\">\n",
       "  <thead>\n",
       "    <tr style=\"text-align: right;\">\n",
       "      <th></th>\n",
       "      <th>Price</th>\n",
       "      <th>Number of Ratings</th>\n",
       "      <th>Number of Reviews</th>\n",
       "    </tr>\n",
       "  </thead>\n",
       "  <tbody>\n",
       "    <tr>\n",
       "      <th>0</th>\n",
       "      <td>34649</td>\n",
       "      <td>3</td>\n",
       "      <td>0</td>\n",
       "    </tr>\n",
       "    <tr>\n",
       "      <th>1</th>\n",
       "      <td>38999</td>\n",
       "      <td>65</td>\n",
       "      <td>5</td>\n",
       "    </tr>\n",
       "    <tr>\n",
       "      <th>2</th>\n",
       "      <td>39999</td>\n",
       "      <td>8</td>\n",
       "      <td>1</td>\n",
       "    </tr>\n",
       "    <tr>\n",
       "      <th>3</th>\n",
       "      <td>69990</td>\n",
       "      <td>0</td>\n",
       "      <td>0</td>\n",
       "    </tr>\n",
       "    <tr>\n",
       "      <th>4</th>\n",
       "      <td>26990</td>\n",
       "      <td>0</td>\n",
       "      <td>0</td>\n",
       "    </tr>\n",
       "  </tbody>\n",
       "</table>\n",
       "</div>"
      ],
      "text/plain": [
       "   Price  Number of Ratings  Number of Reviews\n",
       "0  34649                  3                  0\n",
       "1  38999                 65                  5\n",
       "2  39999                  8                  1\n",
       "3  69990                  0                  0\n",
       "4  26990                  0                  0"
      ]
     },
     "execution_count": 67,
     "metadata": {},
     "output_type": "execute_result"
    }
   ],
   "source": [
    "num_col=df.select_dtypes(exclude=\"O\")\n",
    "num_col.head()"
   ]
  },
  {
   "cell_type": "code",
   "execution_count": 68,
   "id": "ebff4a60",
   "metadata": {},
   "outputs": [
    {
     "data": {
      "text/html": [
       "<div>\n",
       "<style scoped>\n",
       "    .dataframe tbody tr th:only-of-type {\n",
       "        vertical-align: middle;\n",
       "    }\n",
       "\n",
       "    .dataframe tbody tr th {\n",
       "        vertical-align: top;\n",
       "    }\n",
       "\n",
       "    .dataframe thead th {\n",
       "        text-align: right;\n",
       "    }\n",
       "</style>\n",
       "<table border=\"1\" class=\"dataframe\">\n",
       "  <thead>\n",
       "    <tr style=\"text-align: right;\">\n",
       "      <th></th>\n",
       "      <th>brand</th>\n",
       "      <th>processor_brand</th>\n",
       "      <th>processor_name</th>\n",
       "      <th>processor_gnrtn</th>\n",
       "      <th>ram_gb</th>\n",
       "      <th>ram_type</th>\n",
       "      <th>ssd</th>\n",
       "      <th>hdd</th>\n",
       "      <th>os</th>\n",
       "      <th>os_bit</th>\n",
       "      <th>graphic_card_gb</th>\n",
       "      <th>Touchscreen</th>\n",
       "      <th>msoffice</th>\n",
       "    </tr>\n",
       "  </thead>\n",
       "  <tbody>\n",
       "    <tr>\n",
       "      <th>0</th>\n",
       "      <td>ASUS</td>\n",
       "      <td>Intel</td>\n",
       "      <td>Core i3</td>\n",
       "      <td>10th</td>\n",
       "      <td>4 GB</td>\n",
       "      <td>DDR4</td>\n",
       "      <td>0 GB</td>\n",
       "      <td>1024 GB</td>\n",
       "      <td>Windows</td>\n",
       "      <td>64-bit</td>\n",
       "      <td>0 GB</td>\n",
       "      <td>No</td>\n",
       "      <td>No</td>\n",
       "    </tr>\n",
       "    <tr>\n",
       "      <th>1</th>\n",
       "      <td>Lenovo</td>\n",
       "      <td>Intel</td>\n",
       "      <td>Core i3</td>\n",
       "      <td>10th</td>\n",
       "      <td>4 GB</td>\n",
       "      <td>DDR4</td>\n",
       "      <td>0 GB</td>\n",
       "      <td>1024 GB</td>\n",
       "      <td>Windows</td>\n",
       "      <td>64-bit</td>\n",
       "      <td>0 GB</td>\n",
       "      <td>No</td>\n",
       "      <td>No</td>\n",
       "    </tr>\n",
       "    <tr>\n",
       "      <th>2</th>\n",
       "      <td>Lenovo</td>\n",
       "      <td>Intel</td>\n",
       "      <td>Core i3</td>\n",
       "      <td>10th</td>\n",
       "      <td>4 GB</td>\n",
       "      <td>DDR4</td>\n",
       "      <td>0 GB</td>\n",
       "      <td>1024 GB</td>\n",
       "      <td>Windows</td>\n",
       "      <td>64-bit</td>\n",
       "      <td>0 GB</td>\n",
       "      <td>No</td>\n",
       "      <td>No</td>\n",
       "    </tr>\n",
       "    <tr>\n",
       "      <th>3</th>\n",
       "      <td>ASUS</td>\n",
       "      <td>Intel</td>\n",
       "      <td>Core i5</td>\n",
       "      <td>10th</td>\n",
       "      <td>8 GB</td>\n",
       "      <td>DDR4</td>\n",
       "      <td>512 GB</td>\n",
       "      <td>0 GB</td>\n",
       "      <td>Windows</td>\n",
       "      <td>32-bit</td>\n",
       "      <td>2 GB</td>\n",
       "      <td>No</td>\n",
       "      <td>No</td>\n",
       "    </tr>\n",
       "    <tr>\n",
       "      <th>4</th>\n",
       "      <td>ASUS</td>\n",
       "      <td>Intel</td>\n",
       "      <td>Celeron Dual</td>\n",
       "      <td>Not Available</td>\n",
       "      <td>4 GB</td>\n",
       "      <td>DDR4</td>\n",
       "      <td>0 GB</td>\n",
       "      <td>512 GB</td>\n",
       "      <td>Windows</td>\n",
       "      <td>64-bit</td>\n",
       "      <td>0 GB</td>\n",
       "      <td>No</td>\n",
       "      <td>No</td>\n",
       "    </tr>\n",
       "  </tbody>\n",
       "</table>\n",
       "</div>"
      ],
      "text/plain": [
       "    brand processor_brand processor_name processor_gnrtn ram_gb ram_type  \\\n",
       "0    ASUS           Intel        Core i3            10th   4 GB     DDR4   \n",
       "1  Lenovo           Intel        Core i3            10th   4 GB     DDR4   \n",
       "2  Lenovo           Intel        Core i3            10th   4 GB     DDR4   \n",
       "3    ASUS           Intel        Core i5            10th   8 GB     DDR4   \n",
       "4    ASUS           Intel   Celeron Dual   Not Available   4 GB     DDR4   \n",
       "\n",
       "      ssd      hdd       os  os_bit graphic_card_gb Touchscreen msoffice  \n",
       "0    0 GB  1024 GB  Windows  64-bit            0 GB          No       No  \n",
       "1    0 GB  1024 GB  Windows  64-bit            0 GB          No       No  \n",
       "2    0 GB  1024 GB  Windows  64-bit            0 GB          No       No  \n",
       "3  512 GB     0 GB  Windows  32-bit            2 GB          No       No  \n",
       "4    0 GB   512 GB  Windows  64-bit            0 GB          No       No  "
      ]
     },
     "execution_count": 68,
     "metadata": {},
     "output_type": "execute_result"
    }
   ],
   "source": [
    "cat_col=cat_col.drop([\"weight\",\"warranty\",\"rating\"],axis=1)\n",
    "cat_col.head()"
   ]
  },
  {
   "cell_type": "code",
   "execution_count": 69,
   "id": "8b88ce01",
   "metadata": {},
   "outputs": [
    {
     "data": {
      "text/html": [
       "<div>\n",
       "<style scoped>\n",
       "    .dataframe tbody tr th:only-of-type {\n",
       "        vertical-align: middle;\n",
       "    }\n",
       "\n",
       "    .dataframe tbody tr th {\n",
       "        vertical-align: top;\n",
       "    }\n",
       "\n",
       "    .dataframe thead th {\n",
       "        text-align: right;\n",
       "    }\n",
       "</style>\n",
       "<table border=\"1\" class=\"dataframe\">\n",
       "  <thead>\n",
       "    <tr style=\"text-align: right;\">\n",
       "      <th></th>\n",
       "      <th>brand_APPLE</th>\n",
       "      <th>brand_ASUS</th>\n",
       "      <th>brand_Avita</th>\n",
       "      <th>brand_DELL</th>\n",
       "      <th>brand_HP</th>\n",
       "      <th>brand_Lenovo</th>\n",
       "      <th>brand_MSI</th>\n",
       "      <th>brand_acer</th>\n",
       "      <th>processor_brand_AMD</th>\n",
       "      <th>processor_brand_Intel</th>\n",
       "      <th>...</th>\n",
       "      <th>os_bit_64-bit</th>\n",
       "      <th>graphic_card_gb_0 GB</th>\n",
       "      <th>graphic_card_gb_2 GB</th>\n",
       "      <th>graphic_card_gb_4 GB</th>\n",
       "      <th>graphic_card_gb_6 GB</th>\n",
       "      <th>graphic_card_gb_8 GB</th>\n",
       "      <th>Touchscreen_No</th>\n",
       "      <th>Touchscreen_Yes</th>\n",
       "      <th>msoffice_No</th>\n",
       "      <th>msoffice_Yes</th>\n",
       "    </tr>\n",
       "  </thead>\n",
       "  <tbody>\n",
       "    <tr>\n",
       "      <th>0</th>\n",
       "      <td>0</td>\n",
       "      <td>1</td>\n",
       "      <td>0</td>\n",
       "      <td>0</td>\n",
       "      <td>0</td>\n",
       "      <td>0</td>\n",
       "      <td>0</td>\n",
       "      <td>0</td>\n",
       "      <td>0</td>\n",
       "      <td>1</td>\n",
       "      <td>...</td>\n",
       "      <td>1</td>\n",
       "      <td>1</td>\n",
       "      <td>0</td>\n",
       "      <td>0</td>\n",
       "      <td>0</td>\n",
       "      <td>0</td>\n",
       "      <td>1</td>\n",
       "      <td>0</td>\n",
       "      <td>1</td>\n",
       "      <td>0</td>\n",
       "    </tr>\n",
       "    <tr>\n",
       "      <th>1</th>\n",
       "      <td>0</td>\n",
       "      <td>0</td>\n",
       "      <td>0</td>\n",
       "      <td>0</td>\n",
       "      <td>0</td>\n",
       "      <td>1</td>\n",
       "      <td>0</td>\n",
       "      <td>0</td>\n",
       "      <td>0</td>\n",
       "      <td>1</td>\n",
       "      <td>...</td>\n",
       "      <td>1</td>\n",
       "      <td>1</td>\n",
       "      <td>0</td>\n",
       "      <td>0</td>\n",
       "      <td>0</td>\n",
       "      <td>0</td>\n",
       "      <td>1</td>\n",
       "      <td>0</td>\n",
       "      <td>1</td>\n",
       "      <td>0</td>\n",
       "    </tr>\n",
       "    <tr>\n",
       "      <th>2</th>\n",
       "      <td>0</td>\n",
       "      <td>0</td>\n",
       "      <td>0</td>\n",
       "      <td>0</td>\n",
       "      <td>0</td>\n",
       "      <td>1</td>\n",
       "      <td>0</td>\n",
       "      <td>0</td>\n",
       "      <td>0</td>\n",
       "      <td>1</td>\n",
       "      <td>...</td>\n",
       "      <td>1</td>\n",
       "      <td>1</td>\n",
       "      <td>0</td>\n",
       "      <td>0</td>\n",
       "      <td>0</td>\n",
       "      <td>0</td>\n",
       "      <td>1</td>\n",
       "      <td>0</td>\n",
       "      <td>1</td>\n",
       "      <td>0</td>\n",
       "    </tr>\n",
       "    <tr>\n",
       "      <th>3</th>\n",
       "      <td>0</td>\n",
       "      <td>1</td>\n",
       "      <td>0</td>\n",
       "      <td>0</td>\n",
       "      <td>0</td>\n",
       "      <td>0</td>\n",
       "      <td>0</td>\n",
       "      <td>0</td>\n",
       "      <td>0</td>\n",
       "      <td>1</td>\n",
       "      <td>...</td>\n",
       "      <td>0</td>\n",
       "      <td>0</td>\n",
       "      <td>1</td>\n",
       "      <td>0</td>\n",
       "      <td>0</td>\n",
       "      <td>0</td>\n",
       "      <td>1</td>\n",
       "      <td>0</td>\n",
       "      <td>1</td>\n",
       "      <td>0</td>\n",
       "    </tr>\n",
       "    <tr>\n",
       "      <th>4</th>\n",
       "      <td>0</td>\n",
       "      <td>1</td>\n",
       "      <td>0</td>\n",
       "      <td>0</td>\n",
       "      <td>0</td>\n",
       "      <td>0</td>\n",
       "      <td>0</td>\n",
       "      <td>0</td>\n",
       "      <td>0</td>\n",
       "      <td>1</td>\n",
       "      <td>...</td>\n",
       "      <td>1</td>\n",
       "      <td>1</td>\n",
       "      <td>0</td>\n",
       "      <td>0</td>\n",
       "      <td>0</td>\n",
       "      <td>0</td>\n",
       "      <td>1</td>\n",
       "      <td>0</td>\n",
       "      <td>1</td>\n",
       "      <td>0</td>\n",
       "    </tr>\n",
       "  </tbody>\n",
       "</table>\n",
       "<p>5 rows × 65 columns</p>\n",
       "</div>"
      ],
      "text/plain": [
       "   brand_APPLE  brand_ASUS  brand_Avita  brand_DELL  brand_HP  brand_Lenovo  \\\n",
       "0            0           1            0           0         0             0   \n",
       "1            0           0            0           0         0             1   \n",
       "2            0           0            0           0         0             1   \n",
       "3            0           1            0           0         0             0   \n",
       "4            0           1            0           0         0             0   \n",
       "\n",
       "   brand_MSI  brand_acer  processor_brand_AMD  processor_brand_Intel  ...  \\\n",
       "0          0           0                    0                      1  ...   \n",
       "1          0           0                    0                      1  ...   \n",
       "2          0           0                    0                      1  ...   \n",
       "3          0           0                    0                      1  ...   \n",
       "4          0           0                    0                      1  ...   \n",
       "\n",
       "   os_bit_64-bit  graphic_card_gb_0 GB  graphic_card_gb_2 GB  \\\n",
       "0              1                     1                     0   \n",
       "1              1                     1                     0   \n",
       "2              1                     1                     0   \n",
       "3              0                     0                     1   \n",
       "4              1                     1                     0   \n",
       "\n",
       "   graphic_card_gb_4 GB  graphic_card_gb_6 GB  graphic_card_gb_8 GB  \\\n",
       "0                     0                     0                     0   \n",
       "1                     0                     0                     0   \n",
       "2                     0                     0                     0   \n",
       "3                     0                     0                     0   \n",
       "4                     0                     0                     0   \n",
       "\n",
       "   Touchscreen_No  Touchscreen_Yes  msoffice_No  msoffice_Yes  \n",
       "0               1                0            1             0  \n",
       "1               1                0            1             0  \n",
       "2               1                0            1             0  \n",
       "3               1                0            1             0  \n",
       "4               1                0            1             0  \n",
       "\n",
       "[5 rows x 65 columns]"
      ]
     },
     "execution_count": 69,
     "metadata": {},
     "output_type": "execute_result"
    }
   ],
   "source": [
    "pd.get_dummies(cat_col).astype(int).head()"
   ]
  },
  {
   "cell_type": "code",
   "execution_count": 72,
   "id": "0f5408a0",
   "metadata": {},
   "outputs": [
    {
     "data": {
      "image/png": "[encoded data removed]",
      "text/plain": [
       "<Figure size 640x480 with 1 Axes>"
      ]
     },
     "metadata": {},
     "output_type": "display_data"
    }
   ],
   "source": [
    "df['brand'].value_counts().plot(kind='bar', title='Brand-wise Laptop Count', color='skyblue')\n",
    "plt.xlabel('Laptop Brand')\n",
    "plt.ylabel('Number of Laptops')\n",
    "plt.grid(axis='y', linestyle='--', alpha=0.7)\n",
    "plt.tight_layout()\n",
    "plt.show()\n",
    "\n"
   ]
  },
  {
   "cell_type": "code",
   "execution_count": null,
   "id": "c47bdd2b",
   "metadata": {},
   "outputs": [],
   "source": [
    "cat_col[\"brand\"].value_counts()"
   ]
  },
  {
   "cell_type": "code",
   "execution_count": null,
   "id": "3e3731f0",
   "metadata": {},
   "outputs": [],
   "source": [
    "dt={\n",
    "    \"ASUS\":1,\n",
    "    \"DELL\":2,\n",
    "    \"Lenovo\":3,\n",
    "    \"HP\":4,\n",
    "    \"acer\":5,\n",
    "    \"MSI\":6,\n",
    "    \"APPLE\":7,\n",
    "    \"Avita\":8\n",
    "}\n",
    "cat_col[\"brand\"]=cat_col[\"brand\"].map(dt)\n",
    "cat_col.head()\n",
    "\n"
   ]
  },
  {
   "cell_type": "code",
   "execution_count": null,
   "id": "fc76a8bc",
   "metadata": {},
   "outputs": [],
   "source": [
    "cat_col[\"processor_name\"].value_counts()"
   ]
  },
  {
   "cell_type": "code",
   "execution_count": null,
   "id": "508c4654",
   "metadata": {},
   "outputs": [],
   "source": [
    "{i:key for key,i in enumerate(list(cat_col[\"processor_name\"].unique()))}"
   ]
  },
  {
   "cell_type": "code",
   "execution_count": null,
   "id": "71dc8935",
   "metadata": {},
   "outputs": [],
   "source": [
    "dt1={\n",
    "    'Core i3': 0,\n",
    " 'Core i5': 1,\n",
    " 'Celeron Dual': 2,\n",
    " 'Ryzen 5': 3,\n",
    " 'Core i7': 4,\n",
    " 'Core i9': 5,\n",
    " 'M1': 6,\n",
    " 'Pentium Quad': 7,\n",
    " 'Ryzen 3': 8,\n",
    " 'Ryzen 7': 9,\n",
    " 'Ryzen 9': 10\n",
    "}\n",
    "cat_col[\"processor_name\"]=cat_col[\"processor_name\"].map(dt1)\n",
    "cat_col.head()\n",
    "\n"
   ]
  },
  {
   "cell_type": "code",
   "execution_count": null,
   "id": "0336bda4",
   "metadata": {},
   "outputs": [],
   "source": [
    "df.duplicated().sum()\n",
    "df.dropna(inplace=True)\n",
    "df.drop_duplicates(inplace=True)"
   ]
  },
  {
   "cell_type": "code",
   "execution_count": null,
   "id": "07c65f57",
   "metadata": {},
   "outputs": [],
   "source": [
    "cat_col[\"processor_brand\"].value_counts()"
   ]
  },
  {
   "cell_type": "code",
   "execution_count": null,
   "id": "dfad1eba",
   "metadata": {},
   "outputs": [],
   "source": [
    "{i:key for key,i in enumerate(list(cat_col[\"processor_brand\"].unique()))}"
   ]
  },
  {
   "cell_type": "code",
   "execution_count": null,
   "id": "13df794d",
   "metadata": {},
   "outputs": [],
   "source": [
    "dt1={\n",
    "    'Intel': 0, \n",
    "    'AMD': 1, \n",
    "    'M1': 2\n",
    "}\n",
    "cat_col[\"processor_brand\"]=cat_col[\"processor_brand\"].map(dt1)\n",
    "cat_col.head()\n"
   ]
  },
  {
   "cell_type": "code",
   "execution_count": null,
   "id": "8f64c8d1",
   "metadata": {},
   "outputs": [],
   "source": [
    "cat_col[\"processor_gnrtn\"].value_counts()"
   ]
  },
  {
   "cell_type": "code",
   "execution_count": null,
   "id": "8f48a305",
   "metadata": {},
   "outputs": [],
   "source": [
    "{i:key for key,i in enumerate(list(cat_col[\"processor_gnrtn\"].unique()))}"
   ]
  },
  {
   "cell_type": "code",
   "execution_count": null,
   "id": "91a34ad2",
   "metadata": {},
   "outputs": [],
   "source": [
    "dt1={'10th': 0,\n",
    " 'Not Available': 1,\n",
    " '11th': 2,\n",
    " '7th': 3,\n",
    " '8th': 4,\n",
    " '9th': 5,\n",
    " '4th': 6,\n",
    " '12th': 7}\n",
    "cat_col[\"processor_gnrtn\"]=cat_col[\"processor_gnrtn\"].map(dt1)\n",
    "cat_col.head()"
   ]
  },
  {
   "cell_type": "code",
   "execution_count": null,
   "id": "20680faf",
   "metadata": {},
   "outputs": [],
   "source": [
    "cat_col[\"ram_gb\"].value_counts()"
   ]
  },
  {
   "cell_type": "code",
   "execution_count": null,
   "id": "6b4364c4",
   "metadata": {},
   "outputs": [],
   "source": [
    "{i:key for key,i in enumerate(list(cat_col[\"ram_gb\"].unique()))}"
   ]
  },
  {
   "cell_type": "code",
   "execution_count": null,
   "id": "1b1e3aed",
   "metadata": {},
   "outputs": [],
   "source": [
    "dt1={'4 GB': 0, \n",
    "     '8 GB': 1, \n",
    "     '16 GB': 2, \n",
    "     '32 GB': 3}\n",
    "cat_col[\"ram_gb\"]=cat_col[\"ram_gb\"].map(dt1)\n",
    "cat_col.head()\n"
   ]
  },
  {
   "cell_type": "code",
   "execution_count": null,
   "id": "79ca6dda",
   "metadata": {},
   "outputs": [],
   "source": [
    "cat_col[\"ram_type\"].value_counts()"
   ]
  },
  {
   "cell_type": "code",
   "execution_count": null,
   "id": "d953d6fb",
   "metadata": {},
   "outputs": [],
   "source": [
    "{i:key for key,i in enumerate(list(cat_col[\"ram_type\"].unique()))}"
   ]
  },
  {
   "cell_type": "code",
   "execution_count": null,
   "id": "437154a3",
   "metadata": {},
   "outputs": [],
   "source": [
    "dt1={'DDR4': 0, 'LPDDR4': 1, 'LPDDR4X': 2, 'DDR5': 3, 'DDR3': 4, 'LPDDR3': 5}\n",
    "cat_col[\"ram_type\"]=cat_col[\"ram_type\"].map(dt1)\n",
    "cat_col.head()\n"
   ]
  },
  {
   "cell_type": "code",
   "execution_count": null,
   "id": "dc8b4755",
   "metadata": {},
   "outputs": [],
   "source": [
    "cat_col[\"ssd\"].value_counts()"
   ]
  },
  {
   "cell_type": "code",
   "execution_count": null,
   "id": "075e06f8",
   "metadata": {},
   "outputs": [],
   "source": [
    "{i:key for key,i in enumerate(list(cat_col[\"ssd\"].unique()))}"
   ]
  },
  {
   "cell_type": "code",
   "execution_count": null,
   "id": "176c0e82",
   "metadata": {},
   "outputs": [],
   "source": [
    "dt1={'0 GB': 0,\n",
    " '512 GB': 1,\n",
    " '256 GB': 2,\n",
    " '128 GB': 3,\n",
    " '1024 GB': 4,\n",
    " '2048 GB': 5,\n",
    " '3072 GB': 6}\n",
    "cat_col[\"ssd\"]=cat_col[\"ssd\"].map(dt1)\n",
    "cat_col.head()\n"
   ]
  },
  {
   "cell_type": "code",
   "execution_count": null,
   "id": "579f5633",
   "metadata": {},
   "outputs": [],
   "source": [
    "cat_col[\"hdd\"].value_counts()"
   ]
  },
  {
   "cell_type": "code",
   "execution_count": null,
   "id": "cfcb3343",
   "metadata": {},
   "outputs": [],
   "source": [
    "{i:key for key,i in enumerate(list(cat_col[\"hdd\"].unique()))}"
   ]
  },
  {
   "cell_type": "code",
   "execution_count": null,
   "id": "1a0d4ee5",
   "metadata": {},
   "outputs": [],
   "source": [
    "dt1={'1024 GB': 0, '0 GB': 1, '512 GB': 2, '2048 GB': 3}\n",
    "cat_col[\"hdd\"]=cat_col[\"hdd\"].map(dt1)\n",
    "cat_col.head()\n"
   ]
  },
  {
   "cell_type": "code",
   "execution_count": null,
   "id": "34afd2d4",
   "metadata": {},
   "outputs": [],
   "source": [
    "cat_col[\"os\"].value_counts()"
   ]
  },
  {
   "cell_type": "code",
   "execution_count": null,
   "id": "2844e48f",
   "metadata": {},
   "outputs": [],
   "source": [
    "{i:key for key,i in enumerate(list(cat_col[\"os\"].unique()))}"
   ]
  },
  {
   "cell_type": "code",
   "execution_count": null,
   "id": "15ebf581",
   "metadata": {},
   "outputs": [],
   "source": [
    "dt1={'Windows': 0, 'DOS': 1, 'Mac': 2}\n",
    "cat_col[\"os\"]=cat_col[\"os\"].map(dt1)\n",
    "cat_col.head()\n"
   ]
  },
  {
   "cell_type": "code",
   "execution_count": null,
   "id": "7a8b6b91",
   "metadata": {},
   "outputs": [],
   "source": [
    "cat_col[\"os_bit\"].value_counts()"
   ]
  },
  {
   "cell_type": "code",
   "execution_count": null,
   "id": "25fba476",
   "metadata": {},
   "outputs": [],
   "source": [
    "{i:key for key,i in enumerate(list(cat_col[\"os_bit\"].unique()))}"
   ]
  },
  {
   "cell_type": "code",
   "execution_count": null,
   "id": "23cadb84",
   "metadata": {},
   "outputs": [],
   "source": [
    "dt1={'64-bit': 0, '32-bit': 1}\n",
    "cat_col[\"os_bit\"]=cat_col[\"os_bit\"].map(dt1)\n",
    "cat_col.head()\n"
   ]
  },
  {
   "cell_type": "code",
   "execution_count": null,
   "id": "2e51f1b3",
   "metadata": {},
   "outputs": [],
   "source": [
    "cat_col[\"graphic_card_gb\"].value_counts()"
   ]
  },
  {
   "cell_type": "code",
   "execution_count": null,
   "id": "b4935eec",
   "metadata": {},
   "outputs": [],
   "source": [
    "{i:key for key,i in enumerate(list(cat_col[\"graphic_card_gb\"].unique()))}"
   ]
  },
  {
   "cell_type": "code",
   "execution_count": null,
   "id": "f2ed67d7",
   "metadata": {},
   "outputs": [],
   "source": [
    "dt1={'0 GB': 0, '2 GB': 1, '4 GB': 2, '6 GB': 3, '8 GB': 4}\n",
    "cat_col[\"graphic_card_gb\"]=cat_col[\"graphic_card_gb\"].map(dt1)\n",
    "cat_col.head()\n"
   ]
  },
  {
   "cell_type": "code",
   "execution_count": null,
   "id": "3ea32fdd",
   "metadata": {},
   "outputs": [],
   "source": [
    "cat_col[\"Touchscreen\"].value_counts()"
   ]
  },
  {
   "cell_type": "code",
   "execution_count": null,
   "id": "a473e406",
   "metadata": {},
   "outputs": [],
   "source": [
    "{i:key for key,i in enumerate(list(cat_col[\"Touchscreen\"].unique()))}"
   ]
  },
  {
   "cell_type": "code",
   "execution_count": null,
   "id": "56259200",
   "metadata": {},
   "outputs": [],
   "source": [
    "dt1={'No': 0, 'Yes': 1}\n",
    "cat_col[\"Touchscreen\"]=cat_col[\"Touchscreen\"].map(dt1)\n",
    "cat_col.head()\n",
    "\n"
   ]
  },
  {
   "cell_type": "code",
   "execution_count": null,
   "id": "28b97058",
   "metadata": {},
   "outputs": [],
   "source": [
    "cat_col[\"msoffice\"].value_counts()"
   ]
  },
  {
   "cell_type": "code",
   "execution_count": null,
   "id": "b5e184ae",
   "metadata": {},
   "outputs": [],
   "source": [
    "{i:key for key,i in enumerate(list(cat_col[\"msoffice\"].unique()))}"
   ]
  },
  {
   "cell_type": "code",
   "execution_count": null,
   "id": "2038868d",
   "metadata": {},
   "outputs": [],
   "source": [
    "dt1={'No': 0, 'Yes': 1}\n",
    "cat_col[\"msoffice\"]=cat_col[\"msoffice\"].map(dt1)\n",
    "cat_col.head()\n"
   ]
  },
  {
   "cell_type": "code",
   "execution_count": null,
   "id": "62cddeb0",
   "metadata": {},
   "outputs": [],
   "source": [
    "final_df=pd.concat([cat_col,num_col],axis=1)\n",
    "final_df.head()"
   ]
  },
  {
   "cell_type": "code",
   "execution_count": null,
   "id": "1b18db99",
   "metadata": {},
   "outputs": [],
   "source": [
    "metrix=final_df.corr()\n",
    "metrix.head()\n"
   ]
  },
  {
   "cell_type": "code",
   "execution_count": null,
   "id": "390e640e",
   "metadata": {},
   "outputs": [],
   "source": [
    "y = final_df[\"Price\"]\n",
    "x = final_df.drop(\"Price\",axis=1)"
   ]
  },
  {
   "cell_type": "code",
   "execution_count": null,
   "id": "59f3fc8d",
   "metadata": {},
   "outputs": [],
   "source": [
    "x"
   ]
  },
  {
   "cell_type": "code",
   "execution_count": null,
   "id": "4498162a",
   "metadata": {},
   "outputs": [],
   "source": [
    "y"
   ]
  },
  {
   "cell_type": "code",
   "execution_count": null,
   "id": "a11189f5",
   "metadata": {},
   "outputs": [],
   "source": [
    "from sklearn.model_selection import train_test_split\n",
    "x_train,x_test,y_train,y_test=train_test_split(\n",
    "    x,y,test_size=0.4,\n",
    "    random_state=42\n",
    ")"
   ]
  },
  {
   "cell_type": "code",
   "execution_count": null,
   "id": "4ba0e1cd",
   "metadata": {},
   "outputs": [],
   "source": [
    "from sklearn.linear_model import LinearRegression\n",
    "model=LinearRegression() #object banaya hai linear regression class ka\n",
    "model.fit(x_train,y_train)"
   ]
  },
  {
   "cell_type": "code",
   "execution_count": null,
   "id": "8d0cb63c",
   "metadata": {},
   "outputs": [],
   "source": [
    "model.score(x_test,y_test)"
   ]
  },
  {
   "cell_type": "code",
   "execution_count": null,
   "id": "74ea2159",
   "metadata": {},
   "outputs": [],
   "source": [
    "model.score(x_train,y_train) "
   ]
  },
  {
   "cell_type": "code",
   "execution_count": null,
   "id": "c835b6dd",
   "metadata": {},
   "outputs": [],
   "source": [
    "y_pred=model.predict(x_test)\n",
    "y_pred"
   ]
  },
  {
   "cell_type": "code",
   "execution_count": null,
   "id": "3fdb8e57",
   "metadata": {},
   "outputs": [],
   "source": [
    "df1=pd.DataFrame({\"Actual\":y_test,\"Predicted\":y_pred})\n",
    "df1.head()"
   ]
  },
  {
   "cell_type": "code",
   "execution_count": null,
   "id": "7144715b",
   "metadata": {},
   "outputs": [],
   "source": [
    "plt.scatter(y_test,y_pred)\n",
    "plt.xlabel(\"Actual\")\n",
    "plt.ylabel(\"predicted\")\n",
    "plt.plot(y_test,y_test,color=\"red\")"
   ]
  }
 ],
 "metadata": {
  "kernelspec": {
   "display_name": ".venv",
   "language": "python",
   "name": "python3"
  },
  "language_info": {
   "codemirror_mode": {
    "name": "ipython",
    "version": 3
   },
   "file_extension": ".py",
   "mimetype": "text/x-python",
   "name": "python",
   "nbconvert_exporter": "python",
   "pygments_lexer": "ipython3",
   "version": "3.12.3"
  }
 },
 "nbformat": 4,
 "nbformat_minor": 5
}
